{
 "cells": [
  {
   "cell_type": "code",
   "execution_count": 1,
   "id": "77edfbbf",
   "metadata": {},
   "outputs": [],
   "source": [
    "import pandas as pd\n",
    "import numpy as np"
   ]
  },
  {
   "cell_type": "code",
   "execution_count": 2,
   "id": "8c645b2b",
   "metadata": {},
   "outputs": [],
   "source": [
    "anime=pd.read_csv(\"anime.csv\")"
   ]
  },
  {
   "cell_type": "code",
   "execution_count": 3,
   "id": "5b98532c",
   "metadata": {},
   "outputs": [
    {
     "data": {
      "text/plain": [
       "14578"
      ]
     },
     "execution_count": 3,
     "metadata": {},
     "output_type": "execute_result"
    }
   ],
   "source": [
    "anime.tail(1)\n",
    "len(anime.tags)"
   ]
  },
  {
   "cell_type": "code",
   "execution_count": 4,
   "id": "4f9d1972",
   "metadata": {},
   "outputs": [
    {
     "data": {
      "text/html": [
       "<div>\n",
       "<style scoped>\n",
       "    .dataframe tbody tr th:only-of-type {\n",
       "        vertical-align: middle;\n",
       "    }\n",
       "\n",
       "    .dataframe tbody tr th {\n",
       "        vertical-align: top;\n",
       "    }\n",
       "\n",
       "    .dataframe thead th {\n",
       "        text-align: right;\n",
       "    }\n",
       "</style>\n",
       "<table border=\"1\" class=\"dataframe\">\n",
       "  <thead>\n",
       "    <tr style=\"text-align: right;\">\n",
       "      <th></th>\n",
       "      <th>title</th>\n",
       "      <th>mediaType</th>\n",
       "      <th>eps</th>\n",
       "      <th>duration</th>\n",
       "      <th>ongoing</th>\n",
       "      <th>startYr</th>\n",
       "      <th>finishYr</th>\n",
       "      <th>sznOfRelease</th>\n",
       "      <th>description</th>\n",
       "      <th>studios</th>\n",
       "      <th>tags</th>\n",
       "      <th>contentWarn</th>\n",
       "      <th>watched</th>\n",
       "      <th>watching</th>\n",
       "      <th>wantWatch</th>\n",
       "      <th>dropped</th>\n",
       "      <th>rating</th>\n",
       "      <th>votes</th>\n",
       "    </tr>\n",
       "  </thead>\n",
       "  <tbody>\n",
       "    <tr>\n",
       "      <th>0</th>\n",
       "      <td>Fullmetal Alchemist: Brotherhood</td>\n",
       "      <td>TV</td>\n",
       "      <td>64.0</td>\n",
       "      <td>NaN</td>\n",
       "      <td>False</td>\n",
       "      <td>2009.0</td>\n",
       "      <td>2010.0</td>\n",
       "      <td>Spring</td>\n",
       "      <td>The foundation of alchemy is based on the law ...</td>\n",
       "      <td>['Bones']</td>\n",
       "      <td>['Action', 'Adventure', 'Drama', 'Fantasy', 'M...</td>\n",
       "      <td>['Animal Abuse', 'Mature Themes', 'Violence', ...</td>\n",
       "      <td>103707.0</td>\n",
       "      <td>14351</td>\n",
       "      <td>25810</td>\n",
       "      <td>2656</td>\n",
       "      <td>4.702</td>\n",
       "      <td>86547.0</td>\n",
       "    </tr>\n",
       "    <tr>\n",
       "      <th>1</th>\n",
       "      <td>your name.</td>\n",
       "      <td>Movie</td>\n",
       "      <td>1.0</td>\n",
       "      <td>107.0</td>\n",
       "      <td>False</td>\n",
       "      <td>2016.0</td>\n",
       "      <td>2016.0</td>\n",
       "      <td>NaN</td>\n",
       "      <td>Mitsuha and Taki are two total strangers livin...</td>\n",
       "      <td>['CoMix Wave Films']</td>\n",
       "      <td>['Drama', 'Romance', 'Body Swapping', 'Gender ...</td>\n",
       "      <td>[]</td>\n",
       "      <td>58831.0</td>\n",
       "      <td>1453</td>\n",
       "      <td>21733</td>\n",
       "      <td>124</td>\n",
       "      <td>4.663</td>\n",
       "      <td>43960.0</td>\n",
       "    </tr>\n",
       "    <tr>\n",
       "      <th>2</th>\n",
       "      <td>A Silent Voice</td>\n",
       "      <td>Movie</td>\n",
       "      <td>1.0</td>\n",
       "      <td>130.0</td>\n",
       "      <td>False</td>\n",
       "      <td>2016.0</td>\n",
       "      <td>2016.0</td>\n",
       "      <td>NaN</td>\n",
       "      <td>After transferring into a new school, a deaf g...</td>\n",
       "      <td>['Kyoto Animation']</td>\n",
       "      <td>['Drama', 'Shounen', 'Disability', 'Melancholy...</td>\n",
       "      <td>['Bullying', 'Mature Themes', 'Suicide']</td>\n",
       "      <td>45892.0</td>\n",
       "      <td>946</td>\n",
       "      <td>17148</td>\n",
       "      <td>132</td>\n",
       "      <td>4.661</td>\n",
       "      <td>33752.0</td>\n",
       "    </tr>\n",
       "    <tr>\n",
       "      <th>3</th>\n",
       "      <td>Haikyuu!! Karasuno High School vs Shiratorizaw...</td>\n",
       "      <td>TV</td>\n",
       "      <td>10.0</td>\n",
       "      <td>NaN</td>\n",
       "      <td>False</td>\n",
       "      <td>2016.0</td>\n",
       "      <td>2016.0</td>\n",
       "      <td>Fall</td>\n",
       "      <td>Picking up where the second season ended, the ...</td>\n",
       "      <td>['Production I.G']</td>\n",
       "      <td>['Shounen', 'Sports', 'Animeism', 'School Club...</td>\n",
       "      <td>[]</td>\n",
       "      <td>25134.0</td>\n",
       "      <td>2183</td>\n",
       "      <td>8082</td>\n",
       "      <td>167</td>\n",
       "      <td>4.660</td>\n",
       "      <td>17422.0</td>\n",
       "    </tr>\n",
       "    <tr>\n",
       "      <th>4</th>\n",
       "      <td>Attack on Titan 3rd Season: Part II</td>\n",
       "      <td>TV</td>\n",
       "      <td>10.0</td>\n",
       "      <td>NaN</td>\n",
       "      <td>False</td>\n",
       "      <td>2019.0</td>\n",
       "      <td>2019.0</td>\n",
       "      <td>Spring</td>\n",
       "      <td>The battle to retake Wall Maria begins now! Wi...</td>\n",
       "      <td>['Wit Studio']</td>\n",
       "      <td>['Action', 'Fantasy', 'Horror', 'Shounen', 'Da...</td>\n",
       "      <td>['Cannibalism', 'Explicit Violence']</td>\n",
       "      <td>21308.0</td>\n",
       "      <td>3217</td>\n",
       "      <td>7864</td>\n",
       "      <td>174</td>\n",
       "      <td>4.650</td>\n",
       "      <td>15789.0</td>\n",
       "    </tr>\n",
       "    <tr>\n",
       "      <th>5</th>\n",
       "      <td>Demon Slayer: Kimetsu no Yaiba</td>\n",
       "      <td>TV</td>\n",
       "      <td>26.0</td>\n",
       "      <td>NaN</td>\n",
       "      <td>False</td>\n",
       "      <td>2019.0</td>\n",
       "      <td>2019.0</td>\n",
       "      <td>Spring</td>\n",
       "      <td>Bloodthirsty demons lurk in the woods, and nob...</td>\n",
       "      <td>['ufotable']</td>\n",
       "      <td>['Action', 'Adventure', 'Comedy', 'Drama', 'Fa...</td>\n",
       "      <td>['Violence']</td>\n",
       "      <td>28708.0</td>\n",
       "      <td>10844</td>\n",
       "      <td>13156</td>\n",
       "      <td>600</td>\n",
       "      <td>4.647</td>\n",
       "      <td>24765.0</td>\n",
       "    </tr>\n",
       "    <tr>\n",
       "      <th>6</th>\n",
       "      <td>Haikyuu!! Second Season</td>\n",
       "      <td>TV</td>\n",
       "      <td>25.0</td>\n",
       "      <td>NaN</td>\n",
       "      <td>False</td>\n",
       "      <td>2015.0</td>\n",
       "      <td>2016.0</td>\n",
       "      <td>Fall</td>\n",
       "      <td>After losing to Aoba Johsai at the Inter-High,...</td>\n",
       "      <td>['Production I.G']</td>\n",
       "      <td>['Shounen', 'Sports', 'School Club', 'School L...</td>\n",
       "      <td>[]</td>\n",
       "      <td>31329.0</td>\n",
       "      <td>3861</td>\n",
       "      <td>8664</td>\n",
       "      <td>264</td>\n",
       "      <td>4.639</td>\n",
       "      <td>22819.0</td>\n",
       "    </tr>\n",
       "    <tr>\n",
       "      <th>7</th>\n",
       "      <td>Hunter x Hunter (2011)</td>\n",
       "      <td>TV</td>\n",
       "      <td>148.0</td>\n",
       "      <td>NaN</td>\n",
       "      <td>False</td>\n",
       "      <td>2011.0</td>\n",
       "      <td>2014.0</td>\n",
       "      <td>Fall</td>\n",
       "      <td>Drawn to the mystique of the unknown, Hunters ...</td>\n",
       "      <td>['MADHOUSE']</td>\n",
       "      <td>['Action', 'Adventure', 'Drama', 'Fantasy', 'S...</td>\n",
       "      <td>['Violence']</td>\n",
       "      <td>50195.0</td>\n",
       "      <td>17730</td>\n",
       "      <td>19219</td>\n",
       "      <td>2132</td>\n",
       "      <td>4.635</td>\n",
       "      <td>46853.0</td>\n",
       "    </tr>\n",
       "    <tr>\n",
       "      <th>8</th>\n",
       "      <td>Gintama Kanketsu-hen: Yorozuya yo Eien Nare</td>\n",
       "      <td>Movie</td>\n",
       "      <td>1.0</td>\n",
       "      <td>111.0</td>\n",
       "      <td>False</td>\n",
       "      <td>2013.0</td>\n",
       "      <td>2013.0</td>\n",
       "      <td>NaN</td>\n",
       "      <td>While watching a movie, Gintoki comes upon a \"...</td>\n",
       "      <td>['Sunrise']</td>\n",
       "      <td>['Action', 'Comedy', 'Drama', 'Sci Fi', 'Shoun...</td>\n",
       "      <td>[]</td>\n",
       "      <td>8454.0</td>\n",
       "      <td>280</td>\n",
       "      <td>6624</td>\n",
       "      <td>150</td>\n",
       "      <td>4.625</td>\n",
       "      <td>6254.0</td>\n",
       "    </tr>\n",
       "    <tr>\n",
       "      <th>9</th>\n",
       "      <td>Gintama (2015)</td>\n",
       "      <td>TV</td>\n",
       "      <td>51.0</td>\n",
       "      <td>NaN</td>\n",
       "      <td>False</td>\n",
       "      <td>2015.0</td>\n",
       "      <td>2016.0</td>\n",
       "      <td>Spring</td>\n",
       "      <td>Fourth season of Gintama.</td>\n",
       "      <td>['BN Pictures']</td>\n",
       "      <td>['Action', 'Comedy', 'Drama', 'Sci Fi', 'Shoun...</td>\n",
       "      <td>[]</td>\n",
       "      <td>7862.0</td>\n",
       "      <td>3154</td>\n",
       "      <td>10565</td>\n",
       "      <td>647</td>\n",
       "      <td>4.622</td>\n",
       "      <td>7654.0</td>\n",
       "    </tr>\n",
       "  </tbody>\n",
       "</table>\n",
       "</div>"
      ],
      "text/plain": [
       "                                               title mediaType    eps  \\\n",
       "0                   Fullmetal Alchemist: Brotherhood        TV   64.0   \n",
       "1                                         your name.     Movie    1.0   \n",
       "2                                     A Silent Voice     Movie    1.0   \n",
       "3  Haikyuu!! Karasuno High School vs Shiratorizaw...        TV   10.0   \n",
       "4                Attack on Titan 3rd Season: Part II        TV   10.0   \n",
       "5                     Demon Slayer: Kimetsu no Yaiba        TV   26.0   \n",
       "6                            Haikyuu!! Second Season        TV   25.0   \n",
       "7                             Hunter x Hunter (2011)        TV  148.0   \n",
       "8        Gintama Kanketsu-hen: Yorozuya yo Eien Nare     Movie    1.0   \n",
       "9                                     Gintama (2015)        TV   51.0   \n",
       "\n",
       "   duration  ongoing  startYr  finishYr sznOfRelease  \\\n",
       "0       NaN    False   2009.0    2010.0       Spring   \n",
       "1     107.0    False   2016.0    2016.0          NaN   \n",
       "2     130.0    False   2016.0    2016.0          NaN   \n",
       "3       NaN    False   2016.0    2016.0         Fall   \n",
       "4       NaN    False   2019.0    2019.0       Spring   \n",
       "5       NaN    False   2019.0    2019.0       Spring   \n",
       "6       NaN    False   2015.0    2016.0         Fall   \n",
       "7       NaN    False   2011.0    2014.0         Fall   \n",
       "8     111.0    False   2013.0    2013.0          NaN   \n",
       "9       NaN    False   2015.0    2016.0       Spring   \n",
       "\n",
       "                                         description               studios  \\\n",
       "0  The foundation of alchemy is based on the law ...             ['Bones']   \n",
       "1  Mitsuha and Taki are two total strangers livin...  ['CoMix Wave Films']   \n",
       "2  After transferring into a new school, a deaf g...   ['Kyoto Animation']   \n",
       "3  Picking up where the second season ended, the ...    ['Production I.G']   \n",
       "4  The battle to retake Wall Maria begins now! Wi...        ['Wit Studio']   \n",
       "5  Bloodthirsty demons lurk in the woods, and nob...          ['ufotable']   \n",
       "6  After losing to Aoba Johsai at the Inter-High,...    ['Production I.G']   \n",
       "7  Drawn to the mystique of the unknown, Hunters ...          ['MADHOUSE']   \n",
       "8  While watching a movie, Gintoki comes upon a \"...           ['Sunrise']   \n",
       "9                          Fourth season of Gintama.       ['BN Pictures']   \n",
       "\n",
       "                                                tags  \\\n",
       "0  ['Action', 'Adventure', 'Drama', 'Fantasy', 'M...   \n",
       "1  ['Drama', 'Romance', 'Body Swapping', 'Gender ...   \n",
       "2  ['Drama', 'Shounen', 'Disability', 'Melancholy...   \n",
       "3  ['Shounen', 'Sports', 'Animeism', 'School Club...   \n",
       "4  ['Action', 'Fantasy', 'Horror', 'Shounen', 'Da...   \n",
       "5  ['Action', 'Adventure', 'Comedy', 'Drama', 'Fa...   \n",
       "6  ['Shounen', 'Sports', 'School Club', 'School L...   \n",
       "7  ['Action', 'Adventure', 'Drama', 'Fantasy', 'S...   \n",
       "8  ['Action', 'Comedy', 'Drama', 'Sci Fi', 'Shoun...   \n",
       "9  ['Action', 'Comedy', 'Drama', 'Sci Fi', 'Shoun...   \n",
       "\n",
       "                                         contentWarn   watched  watching  \\\n",
       "0  ['Animal Abuse', 'Mature Themes', 'Violence', ...  103707.0     14351   \n",
       "1                                                 []   58831.0      1453   \n",
       "2           ['Bullying', 'Mature Themes', 'Suicide']   45892.0       946   \n",
       "3                                                 []   25134.0      2183   \n",
       "4               ['Cannibalism', 'Explicit Violence']   21308.0      3217   \n",
       "5                                       ['Violence']   28708.0     10844   \n",
       "6                                                 []   31329.0      3861   \n",
       "7                                       ['Violence']   50195.0     17730   \n",
       "8                                                 []    8454.0       280   \n",
       "9                                                 []    7862.0      3154   \n",
       "\n",
       "   wantWatch  dropped  rating    votes  \n",
       "0      25810     2656   4.702  86547.0  \n",
       "1      21733      124   4.663  43960.0  \n",
       "2      17148      132   4.661  33752.0  \n",
       "3       8082      167   4.660  17422.0  \n",
       "4       7864      174   4.650  15789.0  \n",
       "5      13156      600   4.647  24765.0  \n",
       "6       8664      264   4.639  22819.0  \n",
       "7      19219     2132   4.635  46853.0  \n",
       "8       6624      150   4.625   6254.0  \n",
       "9      10565      647   4.622   7654.0  "
      ]
     },
     "execution_count": 4,
     "metadata": {},
     "output_type": "execute_result"
    }
   ],
   "source": [
    "anime.head(10)"
   ]
  },
  {
   "cell_type": "code",
   "execution_count": 5,
   "id": "df13dc15",
   "metadata": {},
   "outputs": [],
   "source": [
    "#title\\eps\\ongoing\\description\\tags\\contentWarn\\description\\rating\\\n",
    "anime=anime[['title','eps','description','tags','contentWarn','rating','studios']]"
   ]
  },
  {
   "cell_type": "code",
   "execution_count": 6,
   "id": "8b420157",
   "metadata": {},
   "outputs": [
    {
     "data": {
      "text/plain": [
       "title             0\n",
       "eps             359\n",
       "description    6405\n",
       "tags              0\n",
       "contentWarn       0\n",
       "rating         2471\n",
       "studios           0\n",
       "dtype: int64"
      ]
     },
     "execution_count": 6,
     "metadata": {},
     "output_type": "execute_result"
    }
   ],
   "source": [
    "anime.isnull().sum()"
   ]
  },
  {
   "cell_type": "code",
   "execution_count": 7,
   "id": "3c2016ab",
   "metadata": {},
   "outputs": [
    {
     "data": {
      "text/plain": [
       "'Kasumin'"
      ]
     },
     "execution_count": 7,
     "metadata": {},
     "output_type": "execute_result"
    }
   ],
   "source": [
    "anime.iloc[6922].title"
   ]
  },
  {
   "cell_type": "markdown",
   "id": "24228f07",
   "metadata": {},
   "source": [
    "import ast\n",
    "def convert(obj):\n",
    "    l=[]\n",
    "    for i in ast.literal_eval(obj):\n",
    "        l.append(i['title'])\n",
    "    return l"
   ]
  },
  {
   "cell_type": "markdown",
   "id": "b028f910",
   "metadata": {},
   "source": [
    "anime['tags'].apply(convert)"
   ]
  },
  {
   "cell_type": "code",
   "execution_count": 8,
   "id": "38f27765",
   "metadata": {},
   "outputs": [
    {
     "name": "stdout",
     "output_type": "stream",
     "text": [
      "0                         Fullmetal Alchemist: Brotherhood\n",
      "1                                               your name.\n",
      "2                                           A Silent Voice\n",
      "3        Haikyuu!! Karasuno High School vs Shiratorizaw...\n",
      "4                      Attack on Titan 3rd Season: Part II\n",
      "                               ...                        \n",
      "14573                 Welcome to Demon School, Iruma-kun 2\n",
      "14574       Pinocchio-P: Sekai wa Mada Hajimatte Sura Inai\n",
      "14575                                          Minagoroshi\n",
      "14576                                           Kurayukaba\n",
      "14577                                    YOASOBI: Harujion\n",
      "Name: title, Length: 14578, dtype: object\n"
     ]
    }
   ],
   "source": [
    "new=[]\n",
    "for i in range(0,len(anime.title)):\n",
    "    s=str(anime.iloc[i].title)\n",
    "    new.append(s)\n",
    "anime.title=new\n",
    "print(anime.title)"
   ]
  },
  {
   "cell_type": "code",
   "execution_count": 9,
   "id": "b3c8fef0",
   "metadata": {},
   "outputs": [],
   "source": [
    "def space_str(genre_string):\n",
    "    genre_list = genre_string.strip(\"[]\").replace(\"'\", \"\").split(\", \")\n",
    "    new_list = [genre.replace(' ', '') for genre in genre_list]\n",
    "    return new_list\n"
   ]
  },
  {
   "cell_type": "code",
   "execution_count": 10,
   "id": "23796b1d",
   "metadata": {},
   "outputs": [
    {
     "name": "stdout",
     "output_type": "stream",
     "text": [
      "0        [Action, Adventure, Drama, Fantasy, Mystery, S...\n",
      "1        [Drama, Romance, BodySwapping, GenderBender, O...\n",
      "2        [Drama, Shounen, Disability, Melancholy, Menta...\n",
      "3        [Shounen, Sports, Animeism, SchoolClub, School...\n",
      "4        [Action, Fantasy, Horror, Shounen, DarkFantasy...\n",
      "                               ...                        \n",
      "14573    [Comedy, Shounen, Demons, MonsterSchool, Perso...\n",
      "14574                                    [Chibi, Vocaloid]\n",
      "14575                  [Comedy, Ecchi, NoDialogue, Shorts]\n",
      "14576                                                   []\n",
      "14577                                                   []\n",
      "Name: tags, Length: 14578, dtype: object\n"
     ]
    }
   ],
   "source": [
    "tags=[]\n",
    "for i in range(len(anime.tags)):\n",
    "    a=anime.iloc[i].tags\n",
    "    new=space_str(a)\n",
    "    tags.append(new)\n",
    "anime.tags=tags\n",
    "print(anime.tags)"
   ]
  },
  {
   "cell_type": "code",
   "execution_count": 11,
   "id": "e6bf323b",
   "metadata": {},
   "outputs": [
    {
     "name": "stdout",
     "output_type": "stream",
     "text": [
      "0        [AnimalAbuse, MatureThemes, Violence, Domestic...\n",
      "1                                                       []\n",
      "2                        [Bullying, MatureThemes, Suicide]\n",
      "3                                                       []\n",
      "4                          [Cannibalism, ExplicitViolence]\n",
      "                               ...                        \n",
      "14573                                                   []\n",
      "14574                                                   []\n",
      "14575                                                   []\n",
      "14576                                                   []\n",
      "14577                                                   []\n",
      "Name: contentWarn, Length: 14578, dtype: object\n"
     ]
    }
   ],
   "source": [
    "contentWarn=[]\n",
    "for i in range(len(anime.contentWarn)):\n",
    "    b=anime.iloc[i].contentWarn\n",
    "    new=space_str(b)\n",
    "    contentWarn.append(new)\n",
    "anime.contentWarn=contentWarn\n",
    "print(anime.contentWarn)"
   ]
  },
  {
   "cell_type": "code",
   "execution_count": 12,
   "id": "8c8a6332",
   "metadata": {},
   "outputs": [
    {
     "name": "stdout",
     "output_type": "stream",
     "text": [
      "0                 [Bones]\n",
      "1        [CoMixWaveFilms]\n",
      "2        [KyotoAnimation]\n",
      "3         [ProductionI.G]\n",
      "4             [WitStudio]\n",
      "               ...       \n",
      "14573                  []\n",
      "14574                  []\n",
      "14575                  []\n",
      "14576           [Makaria]\n",
      "14577                  []\n",
      "Name: studios, Length: 14578, dtype: object\n"
     ]
    }
   ],
   "source": [
    "studios=[]\n",
    "for i in range(len(anime.studios)):\n",
    "    c=anime.iloc[i].studios\n",
    "    ne=space_str(c)\n",
    "    studios.append(ne)\n",
    "anime.studios=studios\n",
    "print(anime.studios)\n"
   ]
  },
  {
   "cell_type": "code",
   "execution_count": 13,
   "id": "7e01fc2b",
   "metadata": {},
   "outputs": [
    {
     "name": "stdout",
     "output_type": "stream",
     "text": [
      "0        [The foundation of alchemy is based on the law...\n",
      "1        [Mitsuha and Taki are two total strangers livi...\n",
      "2        [After transferring into a new school, a deaf ...\n",
      "3        [Picking up where the second season ended, the...\n",
      "4        [The battle to retake Wall Maria begins now! W...\n",
      "                               ...                        \n",
      "14573    [Second Season of Welcome to Demon School, Iru...\n",
      "14574                                                [nan]\n",
      "14575                                                [nan]\n",
      "14576                                                [nan]\n",
      "14577                                                [nan]\n",
      "Name: description, Length: 14578, dtype: object\n"
     ]
    }
   ],
   "source": [
    "desc=[]\n",
    "for i in range(len(anime.description)):\n",
    "    new=[anime.iloc[i].description]\n",
    "    desc.append(new)\n",
    "anime.description=desc\n",
    "print(anime.description)"
   ]
  },
  {
   "cell_type": "code",
   "execution_count": 14,
   "id": "ba904968",
   "metadata": {},
   "outputs": [],
   "source": [
    "anime['tag']=anime['description'] + anime['contentWarn'] + anime['tags'] +anime['studios']"
   ]
  },
  {
   "cell_type": "code",
   "execution_count": 15,
   "id": "45259b75",
   "metadata": {},
   "outputs": [],
   "source": [
    "new_df=anime[['title','tag',]]"
   ]
  },
  {
   "cell_type": "code",
   "execution_count": 16,
   "id": "e7c14c99",
   "metadata": {},
   "outputs": [
    {
     "data": {
      "text/plain": [
       "list"
      ]
     },
     "execution_count": 16,
     "metadata": {},
     "output_type": "execute_result"
    }
   ],
   "source": [
    "type(new_df.iloc[1].tag)"
   ]
  },
  {
   "cell_type": "code",
   "execution_count": 17,
   "id": "4743ba44",
   "metadata": {},
   "outputs": [
    {
     "name": "stderr",
     "output_type": "stream",
     "text": [
      "C:\\Users\\ASUS\\AppData\\Local\\Temp\\ipykernel_7404\\2165355323.py:1: SettingWithCopyWarning: \n",
      "A value is trying to be set on a copy of a slice from a DataFrame.\n",
      "Try using .loc[row_indexer,col_indexer] = value instead\n",
      "\n",
      "See the caveats in the documentation: https://pandas.pydata.org/pandas-docs/stable/user_guide/indexing.html#returning-a-view-versus-a-copy\n",
      "  new_df['tag'] = new_df['tag'].apply(lambda x: \" \".join(map(str, x)) if isinstance(x, list) else x)\n"
     ]
    }
   ],
   "source": [
    "new_df['tag'] = new_df['tag'].apply(lambda x: \" \".join(map(str, x)) if isinstance(x, list) else x)"
   ]
  },
  {
   "cell_type": "markdown",
   "id": "3a015e33",
   "metadata": {},
   "source": [
    "new_df['tag'] = new_df['tag'].apply(lambda x: \" \".join(x) if isinstance(x, list) and not any(isinstance(i, float) for i in x) else x)"
   ]
  },
  {
   "cell_type": "code",
   "execution_count": 18,
   "id": "65a83ae1",
   "metadata": {},
   "outputs": [
    {
     "data": {
      "text/plain": [
       "str"
      ]
     },
     "execution_count": 18,
     "metadata": {},
     "output_type": "execute_result"
    }
   ],
   "source": [
    "type(new_df.iloc[0].tag)"
   ]
  },
  {
   "cell_type": "code",
   "execution_count": 19,
   "id": "1825f1af",
   "metadata": {},
   "outputs": [
    {
     "data": {
      "text/plain": [
       "0        The foundation of alchemy is based on the law ...\n",
       "1        Mitsuha and Taki are two total strangers livin...\n",
       "2        After transferring into a new school, a deaf g...\n",
       "3        Picking up where the second season ended, the ...\n",
       "4        The battle to retake Wall Maria begins now! Wi...\n",
       "                               ...                        \n",
       "14573    Second Season of Welcome to Demon School, Irum...\n",
       "14574                                 nan  Chibi Vocaloid \n",
       "14575                 nan  Comedy Ecchi NoDialogue Shorts \n",
       "14576                                        nan   Makaria\n",
       "14577                                               nan   \n",
       "Name: tag, Length: 14578, dtype: object"
      ]
     },
     "execution_count": 19,
     "metadata": {},
     "output_type": "execute_result"
    }
   ],
   "source": [
    "new_df['tag']"
   ]
  },
  {
   "cell_type": "code",
   "execution_count": 20,
   "id": "972e21a0",
   "metadata": {},
   "outputs": [
    {
     "name": "stderr",
     "output_type": "stream",
     "text": [
      "C:\\Users\\ASUS\\AppData\\Local\\Temp\\ipykernel_7404\\1740795540.py:1: SettingWithCopyWarning: \n",
      "A value is trying to be set on a copy of a slice from a DataFrame.\n",
      "Try using .loc[row_indexer,col_indexer] = value instead\n",
      "\n",
      "See the caveats in the documentation: https://pandas.pydata.org/pandas-docs/stable/user_guide/indexing.html#returning-a-view-versus-a-copy\n",
      "  new_df['tag']=new_df['tag'].apply(lambda x:x.lower())\n"
     ]
    }
   ],
   "source": [
    "new_df['tag']=new_df['tag'].apply(lambda x:x.lower())"
   ]
  },
  {
   "cell_type": "code",
   "execution_count": 21,
   "id": "7c87e0e9",
   "metadata": {
    "scrolled": true
   },
   "outputs": [
    {
     "data": {
      "text/html": [
       "<div>\n",
       "<style scoped>\n",
       "    .dataframe tbody tr th:only-of-type {\n",
       "        vertical-align: middle;\n",
       "    }\n",
       "\n",
       "    .dataframe tbody tr th {\n",
       "        vertical-align: top;\n",
       "    }\n",
       "\n",
       "    .dataframe thead th {\n",
       "        text-align: right;\n",
       "    }\n",
       "</style>\n",
       "<table border=\"1\" class=\"dataframe\">\n",
       "  <thead>\n",
       "    <tr style=\"text-align: right;\">\n",
       "      <th></th>\n",
       "      <th>title</th>\n",
       "      <th>tag</th>\n",
       "    </tr>\n",
       "  </thead>\n",
       "  <tbody>\n",
       "    <tr>\n",
       "      <th>0</th>\n",
       "      <td>Fullmetal Alchemist: Brotherhood</td>\n",
       "      <td>the foundation of alchemy is based on the law ...</td>\n",
       "    </tr>\n",
       "    <tr>\n",
       "      <th>1</th>\n",
       "      <td>your name.</td>\n",
       "      <td>mitsuha and taki are two total strangers livin...</td>\n",
       "    </tr>\n",
       "    <tr>\n",
       "      <th>2</th>\n",
       "      <td>A Silent Voice</td>\n",
       "      <td>after transferring into a new school, a deaf g...</td>\n",
       "    </tr>\n",
       "    <tr>\n",
       "      <th>3</th>\n",
       "      <td>Haikyuu!! Karasuno High School vs Shiratorizaw...</td>\n",
       "      <td>picking up where the second season ended, the ...</td>\n",
       "    </tr>\n",
       "    <tr>\n",
       "      <th>4</th>\n",
       "      <td>Attack on Titan 3rd Season: Part II</td>\n",
       "      <td>the battle to retake wall maria begins now! wi...</td>\n",
       "    </tr>\n",
       "  </tbody>\n",
       "</table>\n",
       "</div>"
      ],
      "text/plain": [
       "                                               title  \\\n",
       "0                   Fullmetal Alchemist: Brotherhood   \n",
       "1                                         your name.   \n",
       "2                                     A Silent Voice   \n",
       "3  Haikyuu!! Karasuno High School vs Shiratorizaw...   \n",
       "4                Attack on Titan 3rd Season: Part II   \n",
       "\n",
       "                                                 tag  \n",
       "0  the foundation of alchemy is based on the law ...  \n",
       "1  mitsuha and taki are two total strangers livin...  \n",
       "2  after transferring into a new school, a deaf g...  \n",
       "3  picking up where the second season ended, the ...  \n",
       "4  the battle to retake wall maria begins now! wi...  "
      ]
     },
     "execution_count": 21,
     "metadata": {},
     "output_type": "execute_result"
    }
   ],
   "source": [
    "new_df.head()"
   ]
  },
  {
   "cell_type": "markdown",
   "id": "841741c0",
   "metadata": {},
   "source": [
    "!pip install nltk"
   ]
  },
  {
   "cell_type": "code",
   "execution_count": 22,
   "id": "22a500bf",
   "metadata": {},
   "outputs": [],
   "source": [
    "from nltk.stem.porter import PorterStemmer\n",
    "ps=PorterStemmer()"
   ]
  },
  {
   "cell_type": "code",
   "execution_count": 23,
   "id": "f849d911",
   "metadata": {},
   "outputs": [],
   "source": [
    "def stem(text):\n",
    "    y=[]\n",
    "    for i in text.split():\n",
    "       y.append(ps.stem(i))\n",
    "    return \" \".join(y)"
   ]
  },
  {
   "cell_type": "code",
   "execution_count": 24,
   "id": "88f54fb4",
   "metadata": {},
   "outputs": [
    {
     "name": "stderr",
     "output_type": "stream",
     "text": [
      "C:\\Users\\ASUS\\AppData\\Local\\Temp\\ipykernel_7404\\599176683.py:1: SettingWithCopyWarning: \n",
      "A value is trying to be set on a copy of a slice from a DataFrame.\n",
      "Try using .loc[row_indexer,col_indexer] = value instead\n",
      "\n",
      "See the caveats in the documentation: https://pandas.pydata.org/pandas-docs/stable/user_guide/indexing.html#returning-a-view-versus-a-copy\n",
      "  new_df['tag']=new_df['tag'].apply(stem)\n"
     ]
    }
   ],
   "source": [
    "new_df['tag']=new_df['tag'].apply(stem)"
   ]
  },
  {
   "cell_type": "code",
   "execution_count": 25,
   "id": "a3e3471a",
   "metadata": {},
   "outputs": [],
   "source": [
    "from sklearn.feature_extraction.text import CountVectorizer\n",
    "cv=CountVectorizer(max_features=5000,stop_words='english')"
   ]
  },
  {
   "cell_type": "code",
   "execution_count": 26,
   "id": "49c765f6",
   "metadata": {},
   "outputs": [],
   "source": [
    "vectors=cv.fit_transform(new_df['tag']).toarray()"
   ]
  },
  {
   "cell_type": "code",
   "execution_count": 27,
   "id": "8034ca17",
   "metadata": {},
   "outputs": [
    {
     "data": {
      "text/plain": [
       "array([0, 0, 0, ..., 0, 0, 0], dtype=int64)"
      ]
     },
     "execution_count": 27,
     "metadata": {},
     "output_type": "execute_result"
    }
   ],
   "source": [
    "vectors[0]"
   ]
  },
  {
   "cell_type": "markdown",
   "id": "c7ed3931",
   "metadata": {
    "scrolled": false
   },
   "source": [
    "cv.get_feature_names()"
   ]
  },
  {
   "cell_type": "code",
   "execution_count": 28,
   "id": "d13a16dc",
   "metadata": {},
   "outputs": [],
   "source": [
    "from sklearn.metrics.pairwise import cosine_similarity"
   ]
  },
  {
   "cell_type": "code",
   "execution_count": 29,
   "id": "c8698ec7",
   "metadata": {},
   "outputs": [],
   "source": [
    "similarity= cosine_similarity(vectors)"
   ]
  },
  {
   "cell_type": "code",
   "execution_count": 30,
   "id": "02a415ca",
   "metadata": {},
   "outputs": [
    {
     "data": {
      "text/plain": [
       "array([0.02399041, 1.        , 0.0843274 , ..., 0.        , 0.        ,\n",
       "       0.        ])"
      ]
     },
     "execution_count": 30,
     "metadata": {},
     "output_type": "execute_result"
    }
   ],
   "source": [
    "similarity[1]"
   ]
  },
  {
   "cell_type": "code",
   "execution_count": 31,
   "id": "95a2c452",
   "metadata": {},
   "outputs": [
    {
     "data": {
      "text/plain": [
       "[(878, 0.5453824771322506),\n",
       " (7339, 0.4489408119418298),\n",
       " (4061, 0.43003193818805624),\n",
       " (4840, 0.42446308243659986),\n",
       " (160, 0.42294396309497595)]"
      ]
     },
     "execution_count": 31,
     "metadata": {},
     "output_type": "execute_result"
    }
   ],
   "source": [
    "sorted(list(enumerate(similarity[0])),reverse=True,key=lambda x:x[1])[1:6]"
   ]
  },
  {
   "cell_type": "code",
   "execution_count": 32,
   "id": "1923e24b",
   "metadata": {},
   "outputs": [],
   "source": [
    "def recommend(title):\n",
    "    anime_index=new_df[new_df['title']==title].index[0]\n",
    "    distances=similarity[anime_index]\n",
    "    anime_list=sorted(list(enumerate(distances)),reverse=True,key=lambda x:x[1])[1:10]\n",
    "    for i in anime_list:\n",
    "        print(new_df.iloc[i[0]].title)\n",
    "    "
   ]
  },
  {
   "cell_type": "code",
   "execution_count": 33,
   "id": "72e7d6dd",
   "metadata": {},
   "outputs": [
    {
     "name": "stdout",
     "output_type": "stream",
     "text": [
      "Overlord II\n",
      "Berserk (2016)\n",
      "Monster\n",
      "Negima!?\n",
      "Utawarerumono\n",
      "Bring me up\n",
      "Barakamon\n",
      "Wolf's Rain\n",
      "Persona 3 The Movie 1: Spring of Birth\n"
     ]
    }
   ],
   "source": [
    "recommend('Overlord')"
   ]
  },
  {
   "cell_type": "code",
   "execution_count": 34,
   "id": "c3837863",
   "metadata": {},
   "outputs": [],
   "source": [
    "import pickle"
   ]
  },
  {
   "cell_type": "code",
   "execution_count": 35,
   "id": "10641eef",
   "metadata": {},
   "outputs": [],
   "source": [
    "pickle.dump(new_df.to_dict(),open('anime_dict.pkl','wb'))"
   ]
  },
  {
   "cell_type": "code",
   "execution_count": 36,
   "id": "ea6bd962",
   "metadata": {},
   "outputs": [],
   "source": [
    "pickle.dump(similarity,open('similarity.pkl','wb'))"
   ]
  },
  {
   "cell_type": "code",
   "execution_count": null,
   "id": "ec4fad77",
   "metadata": {},
   "outputs": [],
   "source": []
  }
 ],
 "metadata": {
  "kernelspec": {
   "display_name": "Python 3 (ipykernel)",
   "language": "python",
   "name": "python3"
  },
  "language_info": {
   "codemirror_mode": {
    "name": "ipython",
    "version": 3
   },
   "file_extension": ".py",
   "mimetype": "text/x-python",
   "name": "python",
   "nbconvert_exporter": "python",
   "pygments_lexer": "ipython3",
   "version": "3.9.12"
  }
 },
 "nbformat": 4,
 "nbformat_minor": 5
}
